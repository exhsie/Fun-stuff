{
 "cells": [
  {
   "cell_type": "code",
   "execution_count": 1,
   "metadata": {},
   "outputs": [],
   "source": [
    "import requests\n",
    "from xml.etree import cElementTree as ET\n",
    "import pandas as pd"
   ]
  },
  {
   "cell_type": "code",
   "execution_count": 2,
   "metadata": {},
   "outputs": [],
   "source": [
    "## Sends request to Springer, passing query as arguments\n",
    "urll = requests.get(\"http://api.springernature.com/meta/v2/jats\", \n",
    "                     params = {\"q\":\"(title:'decision' AND title:'preference' AND journal:'economics')\",\n",
    "                               \"api_key\": \"API-KEY-HERE\"}) # add in own Springer API key"
   ]
  },
  {
   "cell_type": "markdown",
   "metadata": {},
   "source": [
    "#### Retrieving 3 abstracts and placing in dictionary"
   ]
  },
  {
   "cell_type": "code",
   "execution_count": 25,
   "metadata": {},
   "outputs": [
    {
     "data": {
      "text/plain": [
       "'utf-8'"
      ]
     },
     "execution_count": 25,
     "metadata": {},
     "output_type": "execute_result"
    }
   ],
   "source": [
    "## checking text encoding used by requests\n",
    "urll.encoding"
   ]
  },
  {
   "cell_type": "code",
   "execution_count": 33,
   "metadata": {},
   "outputs": [
    {
     "name": "stdout",
     "output_type": "stream",
     "text": [
      "apiMessage {}\n",
      "query {}\n",
      "apiKey {}\n",
      "result {}\n",
      "records {}\n"
     ]
    }
   ],
   "source": [
    "root = ET.fromstring(urll.content)\n",
    "\n",
    "## Checking the xml tree structure\n",
    "for child in root:\n",
    "    print(child.tag, child.attrib)"
   ]
  },
  {
   "cell_type": "code",
   "execution_count": null,
   "metadata": {},
   "outputs": [],
   "source": [
    "## Checking the xml tree structure\n",
    "for child in root.iter():\n",
    "    print(child)"
   ]
  },
  {
   "cell_type": "code",
   "execution_count": 34,
   "metadata": {},
   "outputs": [
    {
     "data": {
      "text/html": [
       "<div>\n",
       "<style scoped>\n",
       "    .dataframe tbody tr th:only-of-type {\n",
       "        vertical-align: middle;\n",
       "    }\n",
       "\n",
       "    .dataframe tbody tr th {\n",
       "        vertical-align: top;\n",
       "    }\n",
       "\n",
       "    .dataframe thead th {\n",
       "        text-align: right;\n",
       "    }\n",
       "</style>\n",
       "<table border=\"1\" class=\"dataframe\">\n",
       "  <thead>\n",
       "    <tr style=\"text-align: right;\">\n",
       "      <th></th>\n",
       "      <th>Journal title</th>\n",
       "      <th>Article title</th>\n",
       "      <th>Month</th>\n",
       "      <th>Year</th>\n",
       "      <th>Abstract</th>\n",
       "    </tr>\n",
       "  </thead>\n",
       "  <tbody>\n",
       "    <tr>\n",
       "      <th>0</th>\n",
       "      <td>Computational Economics</td>\n",
       "      <td>The Likelihood of the Consistency of Collectiv...</td>\n",
       "      <td>4</td>\n",
       "      <td>2019</td>\n",
       "      <td>In most of the social choice literature dealin...</td>\n",
       "    </tr>\n",
       "    <tr>\n",
       "      <th>1</th>\n",
       "      <td>Environmental and Resource Economics</td>\n",
       "      <td>Understanding Hurricane Evacuation Decisions U...</td>\n",
       "      <td>10</td>\n",
       "      <td>2018</td>\n",
       "      <td>We conduct a stated preference analysis to und...</td>\n",
       "    </tr>\n",
       "    <tr>\n",
       "      <th>2</th>\n",
       "      <td>The European Journal of Health Economics</td>\n",
       "      <td>Preferences for public involvement in health s...</td>\n",
       "      <td>12</td>\n",
       "      <td>2017</td>\n",
       "      <td>Stated preference elicitation techniques, such...</td>\n",
       "    </tr>\n",
       "  </tbody>\n",
       "</table>\n",
       "</div>"
      ],
      "text/plain": [
       "                              Journal title  \\\n",
       "0                   Computational Economics   \n",
       "1      Environmental and Resource Economics   \n",
       "2  The European Journal of Health Economics   \n",
       "\n",
       "                                       Article title Month  Year  \\\n",
       "0  The Likelihood of the Consistency of Collectiv...     4  2019   \n",
       "1  Understanding Hurricane Evacuation Decisions U...    10  2018   \n",
       "2  Preferences for public involvement in health s...    12  2017   \n",
       "\n",
       "                                            Abstract  \n",
       "0  In most of the social choice literature dealin...  \n",
       "1  We conduct a stated preference analysis to und...  \n",
       "2  Stated preference elicitation techniques, such...  "
      ]
     },
     "execution_count": 34,
     "metadata": {},
     "output_type": "execute_result"
    }
   ],
   "source": [
    "## finds journal data by tag path, within each article, & appends into dictionary\n",
    "newlist = []\n",
    "count = 0\n",
    "for article in root.findall(\".//article\"):\n",
    "    count += 1\n",
    "    if count > 3:\n",
    "        break\n",
    "    else:\n",
    "        newlist.append({\"Journal title\": article.find('.//journal-title').text,\n",
    "                       \"Article title\": article.find('.//article-title').text,\n",
    "                        \"Month\": article.find(\".//*[@date-type='ppub']/month\").text, \n",
    "                        \"Year\": article.find(\".//*[@date-type='ppub']/year\").text,\n",
    "                       \"Abstract\": \"\".join(article.find('.//p').itertext())})  # combines separated abstract chunks into 1 str\n",
    "        \n",
    "pd.DataFrame(newlist, columns=[\"Journal title\", \"Article title\", \"Month\", \"Year\", \"Abstract\"])\n"
   ]
  }
 ],
 "metadata": {
  "kernelspec": {
   "display_name": "Python 3",
   "language": "python",
   "name": "python3"
  },
  "language_info": {
   "codemirror_mode": {
    "name": "ipython",
    "version": 3
   },
   "file_extension": ".py",
   "mimetype": "text/x-python",
   "name": "python",
   "nbconvert_exporter": "python",
   "pygments_lexer": "ipython3",
   "version": "3.6.8"
  }
 },
 "nbformat": 4,
 "nbformat_minor": 2
}
